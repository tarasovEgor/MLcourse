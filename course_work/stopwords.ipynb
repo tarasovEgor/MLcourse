{
 "cells": [
  {
   "cell_type": "code",
   "execution_count": 3,
   "id": "a438afdb-6bcb-4e25-945d-7bcaadef8e02",
   "metadata": {},
   "outputs": [
    {
     "name": "stdout",
     "output_type": "stream",
     "text": [
      "['NLTK', 'помогает', 'удалении', 'стоп-слов', 'текста', '.']\n"
     ]
    }
   ],
   "source": [
    "from nltk.corpus import stopwords\n",
    "from nltk.tokenize import word_tokenize\n",
    "\n",
    "text = \"NLTK помогает в удалении стоп-слов из текста.\"\n",
    "tokens = word_tokenize(text)\n",
    "stop_words = set(stopwords.words('russian'))\n",
    "filtered_tokens = [word for word in tokens if word not in stop_words]\n",
    "\n",
    "print(filtered_tokens)"
   ]
  },
  {
   "cell_type": "code",
   "execution_count": 4,
   "id": "e6bae10f-0481-404d-8f04-f422f5ea3ecc",
   "metadata": {},
   "outputs": [
    {
     "name": "stdout",
     "output_type": "stream",
     "text": [
      "['NLTK', 'helps', 'removing', 'stopwords', 'text', '.']\n"
     ]
    }
   ],
   "source": [
    "text = \"NLTK helps in removing stopwords from the text.\"\n",
    "tokens = word_tokenize(text)\n",
    "filtered_tokens = [word for word in tokens if not word in stopwords.words('english')]\n",
    "print(filtered_tokens)"
   ]
  }
 ],
 "metadata": {
  "kernelspec": {
   "display_name": "Python 3 (ipykernel)",
   "language": "python",
   "name": "python3"
  },
  "language_info": {
   "codemirror_mode": {
    "name": "ipython",
    "version": 3
   },
   "file_extension": ".py",
   "mimetype": "text/x-python",
   "name": "python",
   "nbconvert_exporter": "python",
   "pygments_lexer": "ipython3",
   "version": "3.12.1"
  }
 },
 "nbformat": 4,
 "nbformat_minor": 5
}
