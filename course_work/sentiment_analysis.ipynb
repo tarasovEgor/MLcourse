{
 "cells": [
  {
   "cell_type": "code",
   "execution_count": 48,
   "id": "369ab5ba-dcbd-4656-b9d4-080c2b1bdc52",
   "metadata": {},
   "outputs": [
    {
     "name": "stdout",
     "output_type": "stream",
     "text": [
      "{'neg': 0.0, 'neu': 0.431, 'pos': 0.569, 'compound': 0.7644}\n"
     ]
    }
   ],
   "source": [
    "import nltk\n",
    "from nltk.sentiment import SentimentIntensityAnalyzer\n",
    "\n",
    "sia = SentimentIntensityAnalyzer()\n",
    "text = \"NLTK is amazing for natural language processing!\"\n",
    "print(sia.polarity_scores(text))"
   ]
  },
  {
   "cell_type": "code",
   "execution_count": 54,
   "id": "aacf0b61-e479-405e-9874-2bff973efce3",
   "metadata": {},
   "outputs": [
    {
     "name": "stdout",
     "output_type": "stream",
     "text": [
      "Sentiment(polarity=0.75, subjectivity=0.75)\n"
     ]
    }
   ],
   "source": [
    "from textblob import TextBlob\n",
    "import nltk\n",
    "\n",
    "text = \"I love NLTK. It's incredibly helpful!\"\n",
    "blob = TextBlob(text)\n",
    "print(blob.sentiment)"
   ]
  },
  {
   "cell_type": "code",
   "execution_count": 57,
   "id": "726a2b6e-1b02-4fbe-b912-c8feba35a8f3",
   "metadata": {},
   "outputs": [
    {
     "name": "stdout",
     "output_type": "stream",
     "text": [
      "{'neg': 0.538, 'neu': 0.462, 'pos': 0.0, 'compound': -0.5423}\n"
     ]
    }
   ],
   "source": [
    "from nltk.corpus import stopwords\n",
    "from nltk.tokenize import word_tokenize\n",
    "from nltk.sentiment import SentimentIntensityAnalyzer\n",
    "\n",
    "stop_words = set(stopwords.words('english'))\n",
    "text = \"NLTK is not bad for learning NLP.\"\n",
    "filtered_text = ' '.join([word for word in word_tokenize(text) if not word in stop_words])\n",
    "\n",
    "sia = SentimentIntensityAnalyzer()\n",
    "print(sia.polarity_scores(filtered_text))"
   ]
  },
  {
   "cell_type": "code",
   "execution_count": 58,
   "id": "d5d5f9c6-49e0-4c40-9841-fd66949c277f",
   "metadata": {},
   "outputs": [
    {
     "name": "stdout",
     "output_type": "stream",
     "text": [
      "{'neg': 0.453, 'neu': 0.547, 'pos': 0.0, 'compound': -0.7002}\n"
     ]
    }
   ],
   "source": [
    "from nltk.stem import WordNetLemmatizer\n",
    "from nltk.tokenize import word_tokenize\n",
    "from nltk.sentiment import SentimentIntensityAnalyzer\n",
    "\n",
    "lemmatizer = WordNetLemmatizer()\n",
    "text = \"The movie was not good. The plot was terrible!\"\n",
    "lemmatized_text = ' '.join([lemmatizer.lemmatize(word) for word in word_tokenize(text)])\n",
    "\n",
    "sia = SentimentIntensityAnalyzer()\n",
    "print(sia.polarity_scores(lemmatized_text))"
   ]
  }
 ],
 "metadata": {
  "kernelspec": {
   "display_name": "Python 3 (ipykernel)",
   "language": "python",
   "name": "python3"
  },
  "language_info": {
   "codemirror_mode": {
    "name": "ipython",
    "version": 3
   },
   "file_extension": ".py",
   "mimetype": "text/x-python",
   "name": "python",
   "nbconvert_exporter": "python",
   "pygments_lexer": "ipython3",
   "version": "3.12.1"
  }
 },
 "nbformat": 4,
 "nbformat_minor": 5
}
