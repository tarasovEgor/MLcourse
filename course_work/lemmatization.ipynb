{
 "cells": [
  {
   "cell_type": "code",
   "execution_count": 7,
   "id": "ef485a6d-27a5-4106-abde-4eadff73a124",
   "metadata": {},
   "outputs": [
    {
     "name": "stdout",
     "output_type": "stream",
     "text": [
      "['The', 'lemmatized', 'form', 'of', 'leaf', 'is', 'leaf']\n"
     ]
    }
   ],
   "source": [
    "from nltk.stem import WordNetLemmatizer\n",
    "from nltk.stem import SnowballStemmer\n",
    "from nltk.tokenize import word_tokenize\n",
    "\n",
    "lemmatizer = WordNetLemmatizer()\n",
    "text = \"The lemmatized form of leaves is leaf\"\n",
    "tokens = word_tokenize(text)\n",
    "lemmatized_words = [lemmatizer.lemmatize(word) for word in tokens]\n",
    "print(lemmatized_words)"
   ]
  },
  {
   "cell_type": "code",
   "execution_count": 8,
   "id": "836f7195-e561-428e-904c-33dd1b0c8f5b",
   "metadata": {},
   "outputs": [
    {
     "name": "stdout",
     "output_type": "stream",
     "text": [
      "['лемматизирова', 'форм', 'слов', 'лист', 'эт', 'лист']\n"
     ]
    }
   ],
   "source": [
    "stemmer = SnowballStemmer(\"russian\")\n",
    "text = \"Лемматизированная форма слова листья это лист\"\n",
    "tokens = word_tokenize(text)\n",
    "lemmatized_words = [stemmer.stem(word) for word in tokens]\n",
    "print(lemmatized_words)"
   ]
  }
 ],
 "metadata": {
  "kernelspec": {
   "display_name": "Python 3 (ipykernel)",
   "language": "python",
   "name": "python3"
  },
  "language_info": {
   "codemirror_mode": {
    "name": "ipython",
    "version": 3
   },
   "file_extension": ".py",
   "mimetype": "text/x-python",
   "name": "python",
   "nbconvert_exporter": "python",
   "pygments_lexer": "ipython3",
   "version": "3.12.1"
  }
 },
 "nbformat": 4,
 "nbformat_minor": 5
}
