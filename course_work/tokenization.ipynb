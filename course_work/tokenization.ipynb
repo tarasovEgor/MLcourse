{
 "cells": [
  {
   "cell_type": "code",
   "execution_count": 1,
   "id": "60fee83d-c48c-44c3-9204-a8a75d9bc290",
   "metadata": {},
   "outputs": [
    {
     "name": "stdout",
     "output_type": "stream",
     "text": [
      "['NLTK', 'упрощает', 'обработку', 'текста', '.']\n"
     ]
    }
   ],
   "source": [
    "from nltk.tokenize import word_tokenize\n",
    "\n",
    "text = \"NLTK упрощает обработку текста.\"\n",
    "word_tokens = word_tokenize(text)\n",
    "print(word_tokens)"
   ]
  },
  {
   "cell_type": "code",
   "execution_count": 2,
   "id": "f60b4baf-09de-410e-bdbb-72dfd4ffa924",
   "metadata": {},
   "outputs": [
    {
     "name": "stdout",
     "output_type": "stream",
     "text": [
      "['OTUS.', 'Наш сайт https://otus.ru/.']\n"
     ]
    }
   ],
   "source": [
    "from nltk.tokenize import sent_tokenize\n",
    "\n",
    "text = \"OTUS. Наш сайт https://otus.ru/.\"\n",
    "sentence_tokens = sent_tokenize(text)\n",
    "print(sentence_tokens)"
   ]
  }
 ],
 "metadata": {
  "kernelspec": {
   "display_name": "Python 3 (ipykernel)",
   "language": "python",
   "name": "python3"
  },
  "language_info": {
   "codemirror_mode": {
    "name": "ipython",
    "version": 3
   },
   "file_extension": ".py",
   "mimetype": "text/x-python",
   "name": "python",
   "nbconvert_exporter": "python",
   "pygments_lexer": "ipython3",
   "version": "3.12.1"
  }
 },
 "nbformat": 4,
 "nbformat_minor": 5
}
